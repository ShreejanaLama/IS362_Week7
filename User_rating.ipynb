{
 "cells": [
  {
   "cell_type": "code",
   "execution_count": 18,
   "metadata": {},
   "outputs": [
    {
     "name": "stdout",
     "output_type": "stream",
     "text": [
      "Movie Ratings Dataset:\n",
      "     User  American Sniper  Edge of Tomorrow  Groundhog Day  Jurassic World  \\\n",
      "0   Bimal                5                 4              3             3.0   \n",
      "1  Bharat                4                 3              3             NaN   \n",
      "2  Sabina                4                 4              4             4.0   \n",
      "3  Roshan                3                 3              2             2.0   \n",
      "4    Puja                5                 4              4             NaN   \n",
      "\n",
      "   Lost in Translation  Lucy  \n",
      "0                  NaN   4.0  \n",
      "1                  4.0   NaN  \n",
      "2                  4.0   4.0  \n",
      "3                  3.0   3.0  \n",
      "4                  NaN   NaN  \n"
     ]
    }
   ],
   "source": [
    "import pandas as pd\n",
    "\n",
    "# Load the ratings from the csv file\n",
    "df_ratings = pd.read_csv('movie_ratings.csv')\n",
    "\n",
    "# Show the dataset\n",
    "print(\"Movie Ratings Dataset:\")\n",
    "print(df_ratings)\n"
   ]
  },
  {
   "cell_type": "code",
   "execution_count": 19,
   "metadata": {},
   "outputs": [
    {
     "name": "stdout",
     "output_type": "stream",
     "text": [
      "\n",
      "Average Ratings per User:\n",
      "User\n",
      "Bimal     3.800000\n",
      "Bharat    3.500000\n",
      "Sabina    4.000000\n",
      "Roshan    2.666667\n",
      "Puja      4.333333\n",
      "dtype: float64\n",
      "\n",
      "Average Ratings per Movie:\n",
      "American Sniper        4.200000\n",
      "Edge of Tomorrow       3.600000\n",
      "Groundhog Day          3.200000\n",
      "Jurassic World         3.000000\n",
      "Lost in Translation    3.666667\n",
      "Lucy                   3.666667\n",
      "dtype: float64\n"
     ]
    }
   ],
   "source": [
    "# Show the average ratings for each user and each movie\n",
    "user_avg_ratings = df_ratings.set_index(\"User\").mean(axis=1)  # Average rating per user\n",
    "movie_avg_ratings = df_ratings.set_index(\"User\").mean(axis=0)  # Average rating per movie\n",
    "\n",
    "# Display the average ratings\n",
    "print(\"\\nAverage Ratings per User:\")\n",
    "print(user_avg_ratings)\n",
    "\n",
    "print(\"\\nAverage Ratings per Movie:\")\n",
    "print(movie_avg_ratings)"
   ]
  },
  {
   "cell_type": "code",
   "execution_count": 20,
   "metadata": {},
   "outputs": [
    {
     "name": "stdout",
     "output_type": "stream",
     "text": [
      "\n",
      "Normalized Ratings (Min-Max Scaling):\n",
      "        American Sniper  Edge of Tomorrow  Groundhog Day  Jurassic World  \\\n",
      "User                                                                       \n",
      "Bimal               1.0               0.5            0.0             0.0   \n",
      "Bharat              1.0               0.0            0.0             NaN   \n",
      "Sabina              NaN               NaN            NaN             NaN   \n",
      "Roshan              1.0               1.0            0.0             0.0   \n",
      "Puja                1.0               0.0            0.0             NaN   \n",
      "\n",
      "        Lost in Translation  Lucy  \n",
      "User                               \n",
      "Bimal                   NaN   0.5  \n",
      "Bharat                  1.0   NaN  \n",
      "Sabina                  NaN   NaN  \n",
      "Roshan                  1.0   1.0  \n",
      "Puja                    NaN   NaN  \n"
     ]
    }
   ],
   "source": [
    "# Normalize ratings for each user (Min-Max normalization)\n",
    "df_normalized = df_ratings.set_index(\"User\").apply(lambda x: (x - x.min()) / (x.max() - x.min()), axis=1)\n",
    "\n",
    "# Display normalized ratings\n",
    "print(\"\\nNormalized Ratings (Min-Max Scaling):\")\n",
    "print(df_normalized)\n"
   ]
  },
  {
   "cell_type": "code",
   "execution_count": 21,
   "metadata": {},
   "outputs": [
    {
     "name": "stdout",
     "output_type": "stream",
     "text": [
      "\n",
      "Standardized Ratings (Z-score Scaling):\n",
      "        American Sniper  Edge of Tomorrow  Groundhog Day  Jurassic World  \\\n",
      "User                                                                       \n",
      "Bimal          1.434274          0.239046      -0.956183       -0.956183   \n",
      "Bharat         0.866025         -0.866025      -0.866025             NaN   \n",
      "Sabina              NaN               NaN            NaN             NaN   \n",
      "Roshan         0.645497          0.645497      -1.290994       -1.290994   \n",
      "Puja           1.154701         -0.577350      -0.577350             NaN   \n",
      "\n",
      "        Lost in Translation      Lucy  \n",
      "User                                   \n",
      "Bimal                   NaN  0.239046  \n",
      "Bharat             0.866025       NaN  \n",
      "Sabina                  NaN       NaN  \n",
      "Roshan             0.645497  0.645497  \n",
      "Puja                    NaN       NaN  \n"
     ]
    }
   ],
   "source": [
    "# Standardize ratings for each user (Z-score standardization)\n",
    "df_standardized = df_ratings.set_index(\"User\").apply(lambda x: (x - x.mean()) / x.std(), axis=1)\n",
    "\n",
    "# Display standardized ratings\n",
    "print(\"\\nStandardized Ratings (Z-score Scaling):\")\n",
    "print(df_standardized)"
   ]
  },
  {
   "cell_type": "markdown",
   "metadata": {},
   "source": [
    "# User Average Ratings  \n",
    "The average rating each user gave across all movies.\n",
    "\n",
    "# Movie Average Ratings  \n",
    "The average rating each movie received across all users.\n",
    "\n",
    "# Normalized Ratings  \n",
    "Min-Max normalization applied per user, where ratings are scaled between 0 and 1.\n",
    "\n",
    "# Standardized Ratings  \n",
    "Z-score standardization applied per user, where ratings are adjusted based on their mean and standard deviation.\n",
    "\n",
    "## Conclusion on Normalized Ratings\n",
    "\n",
    "### Advantages:\n",
    "- Allows fair comparison of user ratings since different users may have different rating tendencies (some may rate generously, others more critically).\n",
    "- Useful when implementing recommendation algorithms that require standardized inputs.\n",
    "\n",
    "### Disadvantages:\n",
    "- Normalization can distort the original rating scale, making it harder to interpret the real sentiment behind the ratings.\n",
    "- If a user has rated only a small number of movies, normalization can amplify small differences disproportionately.\n"
   ]
  }
 ],
 "metadata": {
  "kernelspec": {
   "display_name": "Python 3",
   "language": "python",
   "name": "python3"
  },
  "language_info": {
   "codemirror_mode": {
    "name": "ipython",
    "version": 3
   },
   "file_extension": ".py",
   "mimetype": "text/x-python",
   "name": "python",
   "nbconvert_exporter": "python",
   "pygments_lexer": "ipython3",
   "version": "3.11.4"
  }
 },
 "nbformat": 4,
 "nbformat_minor": 2
}
